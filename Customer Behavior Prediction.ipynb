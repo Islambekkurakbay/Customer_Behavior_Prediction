{
 "cells": [
  {
   "cell_type": "markdown",
   "id": "788511d9",
   "metadata": {},
   "source": [
    "### This project is the part of British Airways Online Internship May 2023"
   ]
  },
  {
   "cell_type": "markdown",
   "id": "4989210d",
   "metadata": {},
   "source": [
    "Customers are more empowered than ever because they have access to a wealth of information at their fingertips. This is one of the reasons the buying cycle is very different to what it used to be. Today, if you’re hoping that a customer purchases your flights or holidays as they come into the airport, you’ve already lost! Being reactive in this situation is not ideal; airlines must be proactive in order to acquire customers before they embark on their holiday.\n",
    "\n",
    "This is possible with the use of data and predictive models. The most important factor with a predictive model is the quality of the data you use to train the machine learning algorithms. For this task, you must manipulate and prepare the provided customer booking data so that you can build a high-quality predictive model.\n",
    "\n",
    "With your predictive model, it is important to interpret the results in order to understand how “predictive” the data really was and whether we can feasibly use it to predict the target outcome (customers buying holidays). Therefore, you should evaluate the model's performance and output how each variable contributes to the predictive model's power.\n",
    "\n"
   ]
  },
  {
   "cell_type": "markdown",
   "id": "4b3c3078",
   "metadata": {},
   "source": [
    "### Getting Started"
   ]
  },
  {
   "cell_type": "code",
   "execution_count": 1,
   "id": "b8ac7cdb",
   "metadata": {},
   "outputs": [],
   "source": [
    "import numpy as np\n",
    "import pandas as pd\n",
    "import matplotlib.pyplot as plt\n",
    "import seaborn as sns"
   ]
  },
  {
   "cell_type": "code",
   "execution_count": 2,
   "id": "e51c30db",
   "metadata": {},
   "outputs": [
    {
     "data": {
      "text/html": [
       "<div>\n",
       "<style scoped>\n",
       "    .dataframe tbody tr th:only-of-type {\n",
       "        vertical-align: middle;\n",
       "    }\n",
       "\n",
       "    .dataframe tbody tr th {\n",
       "        vertical-align: top;\n",
       "    }\n",
       "\n",
       "    .dataframe thead th {\n",
       "        text-align: right;\n",
       "    }\n",
       "</style>\n",
       "<table border=\"1\" class=\"dataframe\">\n",
       "  <thead>\n",
       "    <tr style=\"text-align: right;\">\n",
       "      <th></th>\n",
       "      <th>num_passengers</th>\n",
       "      <th>sales_channel</th>\n",
       "      <th>trip_type</th>\n",
       "      <th>purchase_lead</th>\n",
       "      <th>length_of_stay</th>\n",
       "      <th>flight_hour</th>\n",
       "      <th>flight_day</th>\n",
       "      <th>route</th>\n",
       "      <th>booking_origin</th>\n",
       "      <th>wants_extra_baggage</th>\n",
       "      <th>wants_preferred_seat</th>\n",
       "      <th>wants_in_flight_meals</th>\n",
       "      <th>flight_duration</th>\n",
       "      <th>booking_complete</th>\n",
       "    </tr>\n",
       "  </thead>\n",
       "  <tbody>\n",
       "    <tr>\n",
       "      <th>0</th>\n",
       "      <td>2</td>\n",
       "      <td>Internet</td>\n",
       "      <td>RoundTrip</td>\n",
       "      <td>262</td>\n",
       "      <td>19</td>\n",
       "      <td>7</td>\n",
       "      <td>Sat</td>\n",
       "      <td>AKLDEL</td>\n",
       "      <td>New Zealand</td>\n",
       "      <td>1</td>\n",
       "      <td>0</td>\n",
       "      <td>0</td>\n",
       "      <td>5.52</td>\n",
       "      <td>0</td>\n",
       "    </tr>\n",
       "    <tr>\n",
       "      <th>1</th>\n",
       "      <td>1</td>\n",
       "      <td>Internet</td>\n",
       "      <td>RoundTrip</td>\n",
       "      <td>112</td>\n",
       "      <td>20</td>\n",
       "      <td>3</td>\n",
       "      <td>Sat</td>\n",
       "      <td>AKLDEL</td>\n",
       "      <td>New Zealand</td>\n",
       "      <td>0</td>\n",
       "      <td>0</td>\n",
       "      <td>0</td>\n",
       "      <td>5.52</td>\n",
       "      <td>0</td>\n",
       "    </tr>\n",
       "    <tr>\n",
       "      <th>2</th>\n",
       "      <td>2</td>\n",
       "      <td>Internet</td>\n",
       "      <td>RoundTrip</td>\n",
       "      <td>243</td>\n",
       "      <td>22</td>\n",
       "      <td>17</td>\n",
       "      <td>Wed</td>\n",
       "      <td>AKLDEL</td>\n",
       "      <td>India</td>\n",
       "      <td>1</td>\n",
       "      <td>1</td>\n",
       "      <td>0</td>\n",
       "      <td>5.52</td>\n",
       "      <td>0</td>\n",
       "    </tr>\n",
       "    <tr>\n",
       "      <th>3</th>\n",
       "      <td>1</td>\n",
       "      <td>Internet</td>\n",
       "      <td>RoundTrip</td>\n",
       "      <td>96</td>\n",
       "      <td>31</td>\n",
       "      <td>4</td>\n",
       "      <td>Sat</td>\n",
       "      <td>AKLDEL</td>\n",
       "      <td>New Zealand</td>\n",
       "      <td>0</td>\n",
       "      <td>0</td>\n",
       "      <td>1</td>\n",
       "      <td>5.52</td>\n",
       "      <td>0</td>\n",
       "    </tr>\n",
       "    <tr>\n",
       "      <th>4</th>\n",
       "      <td>2</td>\n",
       "      <td>Internet</td>\n",
       "      <td>RoundTrip</td>\n",
       "      <td>68</td>\n",
       "      <td>22</td>\n",
       "      <td>15</td>\n",
       "      <td>Wed</td>\n",
       "      <td>AKLDEL</td>\n",
       "      <td>India</td>\n",
       "      <td>1</td>\n",
       "      <td>0</td>\n",
       "      <td>1</td>\n",
       "      <td>5.52</td>\n",
       "      <td>0</td>\n",
       "    </tr>\n",
       "    <tr>\n",
       "      <th>...</th>\n",
       "      <td>...</td>\n",
       "      <td>...</td>\n",
       "      <td>...</td>\n",
       "      <td>...</td>\n",
       "      <td>...</td>\n",
       "      <td>...</td>\n",
       "      <td>...</td>\n",
       "      <td>...</td>\n",
       "      <td>...</td>\n",
       "      <td>...</td>\n",
       "      <td>...</td>\n",
       "      <td>...</td>\n",
       "      <td>...</td>\n",
       "      <td>...</td>\n",
       "    </tr>\n",
       "    <tr>\n",
       "      <th>49995</th>\n",
       "      <td>2</td>\n",
       "      <td>Internet</td>\n",
       "      <td>RoundTrip</td>\n",
       "      <td>27</td>\n",
       "      <td>6</td>\n",
       "      <td>9</td>\n",
       "      <td>Sat</td>\n",
       "      <td>PERPNH</td>\n",
       "      <td>Australia</td>\n",
       "      <td>1</td>\n",
       "      <td>0</td>\n",
       "      <td>1</td>\n",
       "      <td>5.62</td>\n",
       "      <td>0</td>\n",
       "    </tr>\n",
       "    <tr>\n",
       "      <th>49996</th>\n",
       "      <td>1</td>\n",
       "      <td>Internet</td>\n",
       "      <td>RoundTrip</td>\n",
       "      <td>111</td>\n",
       "      <td>6</td>\n",
       "      <td>4</td>\n",
       "      <td>Sun</td>\n",
       "      <td>PERPNH</td>\n",
       "      <td>Australia</td>\n",
       "      <td>0</td>\n",
       "      <td>0</td>\n",
       "      <td>0</td>\n",
       "      <td>5.62</td>\n",
       "      <td>0</td>\n",
       "    </tr>\n",
       "    <tr>\n",
       "      <th>49997</th>\n",
       "      <td>1</td>\n",
       "      <td>Internet</td>\n",
       "      <td>RoundTrip</td>\n",
       "      <td>24</td>\n",
       "      <td>6</td>\n",
       "      <td>22</td>\n",
       "      <td>Sat</td>\n",
       "      <td>PERPNH</td>\n",
       "      <td>Australia</td>\n",
       "      <td>0</td>\n",
       "      <td>0</td>\n",
       "      <td>1</td>\n",
       "      <td>5.62</td>\n",
       "      <td>0</td>\n",
       "    </tr>\n",
       "    <tr>\n",
       "      <th>49998</th>\n",
       "      <td>1</td>\n",
       "      <td>Internet</td>\n",
       "      <td>RoundTrip</td>\n",
       "      <td>15</td>\n",
       "      <td>6</td>\n",
       "      <td>11</td>\n",
       "      <td>Mon</td>\n",
       "      <td>PERPNH</td>\n",
       "      <td>Australia</td>\n",
       "      <td>1</td>\n",
       "      <td>0</td>\n",
       "      <td>1</td>\n",
       "      <td>5.62</td>\n",
       "      <td>0</td>\n",
       "    </tr>\n",
       "    <tr>\n",
       "      <th>49999</th>\n",
       "      <td>1</td>\n",
       "      <td>Internet</td>\n",
       "      <td>RoundTrip</td>\n",
       "      <td>19</td>\n",
       "      <td>6</td>\n",
       "      <td>10</td>\n",
       "      <td>Thu</td>\n",
       "      <td>PERPNH</td>\n",
       "      <td>Australia</td>\n",
       "      <td>0</td>\n",
       "      <td>1</td>\n",
       "      <td>0</td>\n",
       "      <td>5.62</td>\n",
       "      <td>0</td>\n",
       "    </tr>\n",
       "  </tbody>\n",
       "</table>\n",
       "<p>50000 rows × 14 columns</p>\n",
       "</div>"
      ],
      "text/plain": [
       "       num_passengers sales_channel  trip_type  purchase_lead  length_of_stay  \\\n",
       "0                   2      Internet  RoundTrip            262              19   \n",
       "1                   1      Internet  RoundTrip            112              20   \n",
       "2                   2      Internet  RoundTrip            243              22   \n",
       "3                   1      Internet  RoundTrip             96              31   \n",
       "4                   2      Internet  RoundTrip             68              22   \n",
       "...               ...           ...        ...            ...             ...   \n",
       "49995               2      Internet  RoundTrip             27               6   \n",
       "49996               1      Internet  RoundTrip            111               6   \n",
       "49997               1      Internet  RoundTrip             24               6   \n",
       "49998               1      Internet  RoundTrip             15               6   \n",
       "49999               1      Internet  RoundTrip             19               6   \n",
       "\n",
       "       flight_hour flight_day   route booking_origin  wants_extra_baggage  \\\n",
       "0                7        Sat  AKLDEL    New Zealand                    1   \n",
       "1                3        Sat  AKLDEL    New Zealand                    0   \n",
       "2               17        Wed  AKLDEL          India                    1   \n",
       "3                4        Sat  AKLDEL    New Zealand                    0   \n",
       "4               15        Wed  AKLDEL          India                    1   \n",
       "...            ...        ...     ...            ...                  ...   \n",
       "49995            9        Sat  PERPNH      Australia                    1   \n",
       "49996            4        Sun  PERPNH      Australia                    0   \n",
       "49997           22        Sat  PERPNH      Australia                    0   \n",
       "49998           11        Mon  PERPNH      Australia                    1   \n",
       "49999           10        Thu  PERPNH      Australia                    0   \n",
       "\n",
       "       wants_preferred_seat  wants_in_flight_meals  flight_duration  \\\n",
       "0                         0                      0             5.52   \n",
       "1                         0                      0             5.52   \n",
       "2                         1                      0             5.52   \n",
       "3                         0                      1             5.52   \n",
       "4                         0                      1             5.52   \n",
       "...                     ...                    ...              ...   \n",
       "49995                     0                      1             5.62   \n",
       "49996                     0                      0             5.62   \n",
       "49997                     0                      1             5.62   \n",
       "49998                     0                      1             5.62   \n",
       "49999                     1                      0             5.62   \n",
       "\n",
       "       booking_complete  \n",
       "0                     0  \n",
       "1                     0  \n",
       "2                     0  \n",
       "3                     0  \n",
       "4                     0  \n",
       "...                 ...  \n",
       "49995                 0  \n",
       "49996                 0  \n",
       "49997                 0  \n",
       "49998                 0  \n",
       "49999                 0  \n",
       "\n",
       "[50000 rows x 14 columns]"
      ]
     },
     "execution_count": 2,
     "metadata": {},
     "output_type": "execute_result"
    }
   ],
   "source": [
    "data = pd.read_csv('customer_booking.csv', encoding='latin')\n",
    "data"
   ]
  },
  {
   "cell_type": "code",
   "execution_count": 3,
   "id": "d1ca2d01",
   "metadata": {},
   "outputs": [],
   "source": [
    "data2 = data"
   ]
  },
  {
   "cell_type": "markdown",
   "id": "7b3c6176",
   "metadata": {},
   "source": [
    "First, spend some time exploring the dataset in the “Getting Started” Jupyter Notebook provided in the Resources section below to understand the different columns and some basic statistics of the dataset. Then, you should consider how to prepare the dataset for a predictive model. You should think about any new features you want to create in order to make your model even better. You can make use of the Resources provided to get you started with this task. "
   ]
  },
  {
   "cell_type": "code",
   "execution_count": 4,
   "id": "9b44a75f",
   "metadata": {},
   "outputs": [
    {
     "name": "stdout",
     "output_type": "stream",
     "text": [
      "<class 'pandas.core.frame.DataFrame'>\n",
      "RangeIndex: 50000 entries, 0 to 49999\n",
      "Data columns (total 14 columns):\n",
      " #   Column                 Non-Null Count  Dtype  \n",
      "---  ------                 --------------  -----  \n",
      " 0   num_passengers         50000 non-null  int64  \n",
      " 1   sales_channel          50000 non-null  object \n",
      " 2   trip_type              50000 non-null  object \n",
      " 3   purchase_lead          50000 non-null  int64  \n",
      " 4   length_of_stay         50000 non-null  int64  \n",
      " 5   flight_hour            50000 non-null  int64  \n",
      " 6   flight_day             50000 non-null  object \n",
      " 7   route                  50000 non-null  object \n",
      " 8   booking_origin         50000 non-null  object \n",
      " 9   wants_extra_baggage    50000 non-null  int64  \n",
      " 10  wants_preferred_seat   50000 non-null  int64  \n",
      " 11  wants_in_flight_meals  50000 non-null  int64  \n",
      " 12  flight_duration        50000 non-null  float64\n",
      " 13  booking_complete       50000 non-null  int64  \n",
      "dtypes: float64(1), int64(8), object(5)\n",
      "memory usage: 5.3+ MB\n"
     ]
    }
   ],
   "source": [
    "data.info()"
   ]
  },
  {
   "cell_type": "markdown",
   "id": "95bed906",
   "metadata": {},
   "source": [
    "There are no missing values. There are 5 object type data, that may be transformed into numerical values."
   ]
  },
  {
   "cell_type": "code",
   "execution_count": 5,
   "id": "60e7f8df",
   "metadata": {},
   "outputs": [
    {
     "data": {
      "text/plain": [
       "0    42522\n",
       "1     7478\n",
       "Name: booking_complete, dtype: int64"
      ]
     },
     "execution_count": 5,
     "metadata": {},
     "output_type": "execute_result"
    }
   ],
   "source": [
    "data['booking_complete'].value_counts()"
   ]
  },
  {
   "cell_type": "markdown",
   "id": "9449f2c7",
   "metadata": {},
   "source": [
    "It can be observed that one class has ~6 times more data, which results in imbalance training. Below it can be observed how this affects the model results. The one way of resolving this issue is undersampling the imbalanced class data."
   ]
  },
  {
   "cell_type": "markdown",
   "id": "7a8e031d",
   "metadata": {},
   "source": [
    "### Unique values"
   ]
  },
  {
   "cell_type": "code",
   "execution_count": 6,
   "id": "d88e0a9a",
   "metadata": {},
   "outputs": [
    {
     "name": "stdout",
     "output_type": "stream",
     "text": [
      "Number of unique values for each column\n",
      "num_passengers -> 9\n",
      "sales_channel -> 2\n",
      "trip_type -> 3\n",
      "purchase_lead -> 470\n",
      "length_of_stay -> 335\n",
      "flight_hour -> 24\n",
      "flight_day -> 7\n",
      "route -> 799\n",
      "booking_origin -> 104\n",
      "wants_extra_baggage -> 2\n",
      "wants_preferred_seat -> 2\n",
      "wants_in_flight_meals -> 2\n",
      "flight_duration -> 21\n",
      "booking_complete -> 2\n"
     ]
    }
   ],
   "source": [
    "print(\"Number of unique values for each column\")\n",
    "for i in data.columns:\n",
    "    print(i, '->', len(data[i].unique()))"
   ]
  },
  {
   "cell_type": "markdown",
   "id": "1de46a65",
   "metadata": {},
   "source": [
    "### Transforming object data type to numerical"
   ]
  },
  {
   "cell_type": "code",
   "execution_count": 7,
   "id": "98cc895f",
   "metadata": {},
   "outputs": [
    {
     "name": "stdout",
     "output_type": "stream",
     "text": [
      "0 Internet\n",
      "1 Mobile\n",
      "0 RoundTrip\n",
      "1 CircleTrip\n",
      "2 OneWay\n",
      "0 Sat\n",
      "1 Wed\n",
      "2 Thu\n",
      "3 Mon\n",
      "4 Sun\n",
      "5 Tue\n",
      "6 Fri\n"
     ]
    }
   ],
   "source": [
    "columns = ['sales_channel', 'trip_type', 'flight_day']\n",
    "\n",
    "def to_numerical(data, column):\n",
    "    types = {}\n",
    "    for i,j in enumerate(data[column].unique()):\n",
    "        print(i, j)\n",
    "        types[j] = i\n",
    "    data[column] = data[column].map(types)\n",
    "    return data[column]\n",
    "\n",
    "for i in columns:\n",
    "    data[i+'_numerical'] = to_numerical(data, i)"
   ]
  },
  {
   "cell_type": "markdown",
   "id": "6c86a07c",
   "metadata": {},
   "source": [
    "### Data Without One-hot en."
   ]
  },
  {
   "cell_type": "code",
   "execution_count": 8,
   "id": "225adf43",
   "metadata": {},
   "outputs": [
    {
     "data": {
      "text/plain": [
       "<AxesSubplot:>"
      ]
     },
     "execution_count": 8,
     "metadata": {},
     "output_type": "execute_result"
    },
    {
     "data": {
      "image/png": "[encoded data removed]",
      "text/plain": [
       "<Figure size 1008x720 with 2 Axes>"
      ]
     },
     "metadata": {
      "needs_background": "light"
     },
     "output_type": "display_data"
    }
   ],
   "source": [
    "# getting feature and output columns\n",
    "df = data.drop(['booking_origin', 'route'] + columns, axis=1)\n",
    "\n",
    "q = data.drop(['booking_origin', 'route'] + columns, axis=1)\n",
    "\n",
    "plt.figure(figsize=(14,10))\n",
    "sns.heatmap(df.corr(), annot=True)"
   ]
  },
  {
   "cell_type": "code",
   "execution_count": 9,
   "id": "d7473bc4",
   "metadata": {},
   "outputs": [
    {
     "data": {
      "text/html": [
       "<div>\n",
       "<style scoped>\n",
       "    .dataframe tbody tr th:only-of-type {\n",
       "        vertical-align: middle;\n",
       "    }\n",
       "\n",
       "    .dataframe tbody tr th {\n",
       "        vertical-align: top;\n",
       "    }\n",
       "\n",
       "    .dataframe thead th {\n",
       "        text-align: right;\n",
       "    }\n",
       "</style>\n",
       "<table border=\"1\" class=\"dataframe\">\n",
       "  <thead>\n",
       "    <tr style=\"text-align: right;\">\n",
       "      <th></th>\n",
       "      <th>num_passengers</th>\n",
       "      <th>purchase_lead</th>\n",
       "      <th>length_of_stay</th>\n",
       "      <th>flight_hour</th>\n",
       "      <th>wants_extra_baggage</th>\n",
       "      <th>wants_preferred_seat</th>\n",
       "      <th>wants_in_flight_meals</th>\n",
       "      <th>flight_duration</th>\n",
       "      <th>sales_channel_numerical</th>\n",
       "      <th>trip_type_numerical</th>\n",
       "      <th>flight_day_numerical</th>\n",
       "    </tr>\n",
       "    <tr>\n",
       "      <th>booking_complete</th>\n",
       "      <th></th>\n",
       "      <th></th>\n",
       "      <th></th>\n",
       "      <th></th>\n",
       "      <th></th>\n",
       "      <th></th>\n",
       "      <th></th>\n",
       "      <th></th>\n",
       "      <th></th>\n",
       "      <th></th>\n",
       "      <th></th>\n",
       "    </tr>\n",
       "  </thead>\n",
       "  <tbody>\n",
       "    <tr>\n",
       "      <th>0</th>\n",
       "      <td>1.580923</td>\n",
       "      <td>85.779926</td>\n",
       "      <td>23.647218</td>\n",
       "      <td>9.050162</td>\n",
       "      <td>0.655331</td>\n",
       "      <td>0.287357</td>\n",
       "      <td>0.421641</td>\n",
       "      <td>7.344266</td>\n",
       "      <td>0.117798</td>\n",
       "      <td>0.019872</td>\n",
       "      <td>3.048210</td>\n",
       "    </tr>\n",
       "    <tr>\n",
       "      <th>1</th>\n",
       "      <td>1.649906</td>\n",
       "      <td>80.167157</td>\n",
       "      <td>19.617679</td>\n",
       "      <td>9.158331</td>\n",
       "      <td>0.745253</td>\n",
       "      <td>0.351565</td>\n",
       "      <td>0.458411</td>\n",
       "      <td>6.898258</td>\n",
       "      <td>0.081439</td>\n",
       "      <td>0.006018</td>\n",
       "      <td>2.989971</td>\n",
       "    </tr>\n",
       "  </tbody>\n",
       "</table>\n",
       "</div>"
      ],
      "text/plain": [
       "                  num_passengers  purchase_lead  length_of_stay  flight_hour  \\\n",
       "booking_complete                                                               \n",
       "0                       1.580923      85.779926       23.647218     9.050162   \n",
       "1                       1.649906      80.167157       19.617679     9.158331   \n",
       "\n",
       "                  wants_extra_baggage  wants_preferred_seat  \\\n",
       "booking_complete                                              \n",
       "0                            0.655331              0.287357   \n",
       "1                            0.745253              0.351565   \n",
       "\n",
       "                  wants_in_flight_meals  flight_duration  \\\n",
       "booking_complete                                           \n",
       "0                              0.421641         7.344266   \n",
       "1                              0.458411         6.898258   \n",
       "\n",
       "                  sales_channel_numerical  trip_type_numerical  \\\n",
       "booking_complete                                                 \n",
       "0                                0.117798             0.019872   \n",
       "1                                0.081439             0.006018   \n",
       "\n",
       "                  flight_day_numerical  \n",
       "booking_complete                        \n",
       "0                             3.048210  \n",
       "1                             2.989971  "
      ]
     },
     "execution_count": 9,
     "metadata": {},
     "output_type": "execute_result"
    }
   ],
   "source": [
    "booking_complete = df.groupby(\"booking_complete\").mean()\n",
    "booking_complete.head()"
   ]
  },
  {
   "cell_type": "code",
   "execution_count": 10,
   "id": "6a7d469e",
   "metadata": {},
   "outputs": [
    {
     "data": {
      "text/plain": [
       "<AxesSubplot:xlabel='booking_complete'>"
      ]
     },
     "execution_count": 10,
     "metadata": {},
     "output_type": "execute_result"
    },
    {
     "data": {
      "image/png": "[encoded data removed]",
      "text/plain": [
       "<Figure size 864x432 with 1 Axes>"
      ]
     },
     "metadata": {
      "needs_background": "light"
     },
     "output_type": "display_data"
    }
   ],
   "source": [
    "booking_complete.plot.bar(figsize=(12,6))"
   ]
  },
  {
   "cell_type": "markdown",
   "id": "c90654f1",
   "metadata": {},
   "source": [
    "in this bar plot it can be observed that both categories have similar data. The difference is not very great."
   ]
  },
  {
   "cell_type": "markdown",
   "id": "41347f3a",
   "metadata": {},
   "source": [
    "### Model Data Preparation"
   ]
  },
  {
   "cell_type": "markdown",
   "id": "987d6a56",
   "metadata": {},
   "source": [
    "When your data is ready for modelling, you should train a machine learning model to be able to predict the target outcome, which is a customer making a booking. For this task, you should use an algorithm that easily allows you to output information about how each variable within the model contributes to its predictive power. For example, a RandomForest is very good for this purpose."
   ]
  },
  {
   "cell_type": "markdown",
   "id": "dc126e5a",
   "metadata": {},
   "source": [
    "### Random Forest Classifier"
   ]
  },
  {
   "cell_type": "markdown",
   "id": "b7bb6a95",
   "metadata": {},
   "source": [
    "Random Forest Classifier, Naive Bayes Classifier and Support Vector Machines are the basic algorithms/models when working with categorical data. In this analysis, only Random Forest and Naive Bayes algorithms were used."
   ]
  },
  {
   "cell_type": "code",
   "execution_count": 11,
   "id": "20d0f9fc",
   "metadata": {},
   "outputs": [],
   "source": [
    "# Splitting the data and creating a model\n",
    "from sklearn.model_selection import train_test_split\n",
    "from sklearn.ensemble import RandomForestClassifier\n",
    "\n",
    "X = data2.drop(['booking_complete', 'route', 'booking_origin'] + columns, axis=1)\n",
    "y = data2['booking_complete']\n",
    "X_train, X_test, y_train, y_test = train_test_split(X, y, stratify=y, test_size=0.3, random_state=100)\n",
    "\n",
    "forest = RandomForestClassifier(n_estimators=100, random_state=100)"
   ]
  },
  {
   "cell_type": "code",
   "execution_count": 12,
   "id": "47009d7d",
   "metadata": {},
   "outputs": [],
   "source": [
    "forest.fit(X_train,y_train)\n",
    "predictions = forest.predict(X_test)"
   ]
  },
  {
   "cell_type": "code",
   "execution_count": 13,
   "id": "a226cccd",
   "metadata": {
    "scrolled": true
   },
   "outputs": [
    {
     "name": "stdout",
     "output_type": "stream",
     "text": [
      "              precision    recall  f1-score   support\n",
      "\n",
      "           0       0.86      0.99      0.92     12757\n",
      "           1       0.44      0.06      0.11      2243\n",
      "\n",
      "    accuracy                           0.85     15000\n",
      "   macro avg       0.65      0.52      0.51     15000\n",
      "weighted avg       0.79      0.85      0.80     15000\n",
      "\n"
     ]
    }
   ],
   "source": [
    "# Random Forest Classification\n",
    "from sklearn import metrics\n",
    "print(metrics.classification_report(y_test, predictions))"
   ]
  },
  {
   "cell_type": "markdown",
   "id": "db523175",
   "metadata": {},
   "source": [
    "### Cross Validation + original data"
   ]
  },
  {
   "cell_type": "code",
   "execution_count": 53,
   "id": "320299c8",
   "metadata": {},
   "outputs": [],
   "source": [
    "from sklearn.model_selection import cross_val_score\n",
    "\n",
    "scores = cross_val_score(forest, q_data, q_target, cv=5)"
   ]
  },
  {
   "cell_type": "code",
   "execution_count": 54,
   "id": "ef0a471e",
   "metadata": {},
   "outputs": [
    {
     "data": {
      "text/plain": [
       "0.64652"
      ]
     },
     "execution_count": 54,
     "metadata": {},
     "output_type": "execute_result"
    }
   ],
   "source": [
    "scores.mean()"
   ]
  },
  {
   "cell_type": "markdown",
   "id": "9ee57ae8",
   "metadata": {},
   "source": [
    "### Multinomial Naive Bayes"
   ]
  },
  {
   "cell_type": "code",
   "execution_count": 14,
   "id": "d26d4bcb",
   "metadata": {},
   "outputs": [],
   "source": [
    "from sklearn.naive_bayes import MultinomialNB\n",
    "nb = MultinomialNB()\n",
    "r = nb.fit(X_train, y_train)"
   ]
  },
  {
   "cell_type": "code",
   "execution_count": 15,
   "id": "35216561",
   "metadata": {},
   "outputs": [
    {
     "name": "stdout",
     "output_type": "stream",
     "text": [
      "              precision    recall  f1-score   support\n",
      "\n",
      "           0       0.86      0.79      0.83     12757\n",
      "           1       0.19      0.28      0.23      2243\n",
      "\n",
      "    accuracy                           0.71     15000\n",
      "   macro avg       0.53      0.53      0.53     15000\n",
      "weighted avg       0.76      0.71      0.74     15000\n",
      "\n"
     ]
    }
   ],
   "source": [
    "y_predicted = nb.predict(X_test)\n",
    "# Naive Bayes Results\n",
    "print(metrics.classification_report(y_test, y_predicted))"
   ]
  },
  {
   "cell_type": "code",
   "execution_count": 16,
   "id": "f35cf20b",
   "metadata": {},
   "outputs": [
    {
     "name": "stdout",
     "output_type": "stream",
     "text": [
      "              precision    recall  f1-score   support\n",
      "\n",
      "           0       1.00      1.00      1.00     29774\n",
      "           1       1.00      1.00      1.00      5226\n",
      "\n",
      "    accuracy                           1.00     35000\n",
      "   macro avg       1.00      1.00      1.00     35000\n",
      "weighted avg       1.00      1.00      1.00     35000\n",
      "\n"
     ]
    }
   ],
   "source": [
    "y_train_predicted = forest.predict(X_train)\n",
    "print(metrics.classification_report(y_train_predicted, y_train))"
   ]
  },
  {
   "cell_type": "markdown",
   "id": "6979e13e",
   "metadata": {},
   "source": [
    "Naive Bayes algorithm performs poor on this dataset, so mainly Random Forest Algorithm will be used."
   ]
  },
  {
   "cell_type": "markdown",
   "id": "8c8d689f",
   "metadata": {},
   "source": [
    "## Undersampling"
   ]
  },
  {
   "cell_type": "markdown",
   "id": "89acd03c",
   "metadata": {},
   "source": [
    "Process of removing data of the imbalanced class until classes are balanced or have equal amount of data."
   ]
  },
  {
   "cell_type": "code",
   "execution_count": 17,
   "id": "dc042ea8",
   "metadata": {},
   "outputs": [
    {
     "data": {
      "text/plain": [
       "0    5610\n",
       "1    5610\n",
       "Name: booking_complete, dtype: int64"
      ]
     },
     "execution_count": 17,
     "metadata": {},
     "output_type": "execute_result"
    }
   ],
   "source": [
    "from sklearn.utils import resample\n",
    "\n",
    "X_train, X_test, y_train, y_test = train_test_split(X, y, test_size=0.25, random_state=27)\n",
    "df = pd.concat([X_train, y_train], axis=1)\n",
    "\n",
    "df_majority = df[df.booking_complete==0]\n",
    "df_minority = df[df.booking_complete==1]\n",
    " \n",
    "# Downsample majority class\n",
    "df_majority_downsampled = resample(df_majority, \n",
    "                                 replace=False,    # sample without replacement\n",
    "                                 n_samples=len(df_minority),  # to match minority class\n",
    "                                 random_state=1234) # reproducible results\n",
    " \n",
    "# Combine minority class with downsampled majority class\n",
    "df_downsampled = pd.concat([df_majority_downsampled, df_minority])\n",
    " \n",
    "# Display new class counts\n",
    "df_downsampled.booking_complete.value_counts()"
   ]
  },
  {
   "cell_type": "markdown",
   "id": "9be4a54f",
   "metadata": {},
   "source": [
    "### Random Forest + Undersampling"
   ]
  },
  {
   "cell_type": "code",
   "execution_count": 18,
   "id": "06884d09",
   "metadata": {},
   "outputs": [],
   "source": [
    "### Splitting the data and creating a model\n",
    "X_1 = df_downsampled.drop(['booking_complete'], axis=1)\n",
    "y_1 = df_downsampled['booking_complete']\n",
    "X_train, X_test, y_train, y_test = train_test_split(X_1, y_1, stratify=y_1, test_size=0.3, random_state=100)\n",
    "\n",
    "forest = RandomForestClassifier(n_estimators=100, random_state=100)"
   ]
  },
  {
   "cell_type": "code",
   "execution_count": 19,
   "id": "2cdae338",
   "metadata": {},
   "outputs": [],
   "source": [
    "forest.fit(X_train,y_train)\n",
    "predictions = forest.predict(X_test)"
   ]
  },
  {
   "cell_type": "code",
   "execution_count": 20,
   "id": "dddc1309",
   "metadata": {},
   "outputs": [
    {
     "name": "stdout",
     "output_type": "stream",
     "text": [
      "              precision    recall  f1-score   support\n",
      "\n",
      "           0       0.62      0.63      0.63      1683\n",
      "           1       0.63      0.62      0.62      1683\n",
      "\n",
      "    accuracy                           0.62      3366\n",
      "   macro avg       0.62      0.62      0.62      3366\n",
      "weighted avg       0.62      0.62      0.62      3366\n",
      "\n"
     ]
    }
   ],
   "source": [
    "# Random Forest Classification\n",
    "print(metrics.classification_report(y_test, predictions))"
   ]
  },
  {
   "cell_type": "code",
   "execution_count": 21,
   "id": "3b846cb4",
   "metadata": {},
   "outputs": [
    {
     "data": {
      "image/png": "[encoded data removed]",
      "text/plain": [
       "<Figure size 648x504 with 2 Axes>"
      ]
     },
     "metadata": {
      "needs_background": "light"
     },
     "output_type": "display_data"
    }
   ],
   "source": [
    "# confusion matrix\n",
    "plt.figure(figsize=(9, 7))\n",
    "sns.heatmap(metrics.confusion_matrix(y_test, predictions), annot=True,fmt='.4g', \n",
    "            xticklabels=['Actual','Predicted'], yticklabels=['Actual','Predicted'], cmap='Blues')\n",
    "plt.show()"
   ]
  },
  {
   "cell_type": "markdown",
   "id": "06123b8e",
   "metadata": {},
   "source": [
    "Undersampling didn't resolve the issue. Model underfits"
   ]
  },
  {
   "cell_type": "markdown",
   "id": "6fd07c3a",
   "metadata": {},
   "source": [
    "## Undersampling + Oversampling"
   ]
  },
  {
   "cell_type": "markdown",
   "id": "cf09a732",
   "metadata": {},
   "source": [
    "In comparison to Undersampling, Oversampling or Upsampling is the process of synthetic data size increase. Oversampling itself leads to overfitting, since no additional noise is produced. For this section, at first undersampling of the minor class data size then minor class data oversampling were provided."
   ]
  },
  {
   "cell_type": "code",
   "execution_count": 22,
   "id": "c85720d6",
   "metadata": {},
   "outputs": [
    {
     "data": {
      "text/plain": [
       "0    16830\n",
       "1     5610\n",
       "Name: booking_complete, dtype: int64"
      ]
     },
     "execution_count": 22,
     "metadata": {},
     "output_type": "execute_result"
    }
   ],
   "source": [
    "# Undersampling\n",
    "X_train, X_test, y_train, y_test = train_test_split(X, y, test_size=0.25, random_state=27)\n",
    "df = pd.concat([X_train, y_train], axis=1)\n",
    "\n",
    "df_majority = df[df.booking_complete==0]\n",
    "df_minority = df[df.booking_complete==1]\n",
    " \n",
    "# Downsample majority class\n",
    "df_majority_downsampled = resample(df_majority, \n",
    "                                 replace=False,    # sample without replacement\n",
    "                                 n_samples=len(df_minority)*3,  # to match minority class\n",
    "                                 random_state=1234) # reproducible results\n",
    " \n",
    "# Combine minority class with downsampled majority class\n",
    "df_downsampled = pd.concat([df_majority_downsampled, df_minority])\n",
    " \n",
    "# Display new class counts\n",
    "df_downsampled.booking_complete.value_counts()"
   ]
  },
  {
   "cell_type": "code",
   "execution_count": 23,
   "id": "c86b8a00",
   "metadata": {},
   "outputs": [
    {
     "data": {
      "text/plain": [
       "1    16830\n",
       "0    16830\n",
       "Name: booking_complete, dtype: int64"
      ]
     },
     "execution_count": 23,
     "metadata": {},
     "output_type": "execute_result"
    }
   ],
   "source": [
    "# Oversample minority class\n",
    "df_maj = df_downsampled[df_downsampled['booking_complete'] == 0]\n",
    "\n",
    "df_minority_upsampled = resample(df_minority, \n",
    "                                 replace=True,     # sample with replacement\n",
    "                                 n_samples=len(df_maj),    # to match majority class\n",
    "                                 random_state=1234) # reproducible results\n",
    "\n",
    "# Combine minority class with downsampled majority class\n",
    "df_sampled = pd.concat([df_minority_upsampled, df_maj])\n",
    " \n",
    "# Display new class counts\n",
    "df_sampled.booking_complete.value_counts()"
   ]
  },
  {
   "cell_type": "markdown",
   "id": "e9ec596d",
   "metadata": {},
   "source": [
    "### Random Forest + Undersampling + Oversampling"
   ]
  },
  {
   "cell_type": "code",
   "execution_count": 24,
   "id": "cb03fb6a",
   "metadata": {},
   "outputs": [],
   "source": [
    "### Splitting the data and creating a model\n",
    "\n",
    "X_2 = df_sampled.drop(['booking_complete'], axis=1)\n",
    "y_2 = df_sampled['booking_complete']\n",
    "X_train, X_test, y_train, y_test = train_test_split(X_2, y_2, stratify=y_2, test_size=0.3, random_state=100)\n",
    "\n",
    "forest = RandomForestClassifier(n_estimators=100, random_state=100)"
   ]
  },
  {
   "cell_type": "code",
   "execution_count": 25,
   "id": "cda66b3d",
   "metadata": {},
   "outputs": [],
   "source": [
    "forest.fit(X_train,y_train)\n",
    "predictions = forest.predict(X_test)"
   ]
  },
  {
   "cell_type": "code",
   "execution_count": 26,
   "id": "b21e3adf",
   "metadata": {},
   "outputs": [
    {
     "name": "stdout",
     "output_type": "stream",
     "text": [
      "              precision    recall  f1-score   support\n",
      "\n",
      "           0       0.91      0.84      0.87      5049\n",
      "           1       0.85      0.91      0.88      5049\n",
      "\n",
      "    accuracy                           0.88     10098\n",
      "   macro avg       0.88      0.88      0.88     10098\n",
      "weighted avg       0.88      0.88      0.88     10098\n",
      "\n"
     ]
    }
   ],
   "source": [
    "# Random Forest Classification\n",
    "print(metrics.classification_report(y_test, predictions))"
   ]
  },
  {
   "cell_type": "code",
   "execution_count": 27,
   "id": "4edbaa84",
   "metadata": {},
   "outputs": [
    {
     "data": {
      "image/png": "[encoded data removed]",
      "text/plain": [
       "<Figure size 648x504 with 2 Axes>"
      ]
     },
     "metadata": {
      "needs_background": "light"
     },
     "output_type": "display_data"
    }
   ],
   "source": [
    "# confusion matrix\n",
    "plt.figure(figsize=(9, 7))\n",
    "sns.heatmap(metrics.confusion_matrix(y_test, predictions), annot=True,fmt='.4g', \n",
    "            xticklabels=['Actual','Predicted'], yticklabels=['Actual','Predicted'], cmap='Blues')\n",
    "plt.show()"
   ]
  },
  {
   "cell_type": "markdown",
   "id": "a519a0c5",
   "metadata": {},
   "source": [
    "### Cross Validation + Random Forest + Undersampling + Oversampling"
   ]
  },
  {
   "cell_type": "code",
   "execution_count": 57,
   "id": "74ede0c0",
   "metadata": {},
   "outputs": [
    {
     "data": {
      "text/plain": [
       "0.8960190136660724"
      ]
     },
     "execution_count": 57,
     "metadata": {},
     "output_type": "execute_result"
    }
   ],
   "source": [
    "scores = cross_val_score(forest, X_2, y_2, cv=5)\n",
    "scores.mean()"
   ]
  },
  {
   "cell_type": "code",
   "execution_count": 28,
   "id": "63865540",
   "metadata": {},
   "outputs": [
    {
     "name": "stdout",
     "output_type": "stream",
     "text": [
      "              precision    recall  f1-score   support\n",
      "\n",
      "           0       1.00      1.00      1.00     11781\n",
      "           1       1.00      1.00      1.00     11781\n",
      "\n",
      "    accuracy                           1.00     23562\n",
      "   macro avg       1.00      1.00      1.00     23562\n",
      "weighted avg       1.00      1.00      1.00     23562\n",
      "\n"
     ]
    }
   ],
   "source": [
    "# training data\n",
    "train_predictions = forest.predict(X_train)\n",
    "print(metrics.classification_report(y_train, train_predictions))"
   ]
  },
  {
   "cell_type": "markdown",
   "id": "cbbd6ce7",
   "metadata": {},
   "source": [
    "This model seems to perform well, but it is clearly overfitting."
   ]
  },
  {
   "cell_type": "markdown",
   "id": "9d02701e",
   "metadata": {},
   "source": [
    "### Multinomial Naive Bayes + Undersampling + Oversampling"
   ]
  },
  {
   "cell_type": "code",
   "execution_count": 29,
   "id": "94c8b2b4",
   "metadata": {},
   "outputs": [],
   "source": [
    "nb = MultinomialNB()\n",
    "r = nb.fit(X_train, y_train)"
   ]
  },
  {
   "cell_type": "code",
   "execution_count": 30,
   "id": "cc3d78e2",
   "metadata": {},
   "outputs": [
    {
     "name": "stdout",
     "output_type": "stream",
     "text": [
      "              precision    recall  f1-score   support\n",
      "\n",
      "           0       0.58      0.39      0.47      5049\n",
      "           1       0.54      0.72      0.62      5049\n",
      "\n",
      "    accuracy                           0.55     10098\n",
      "   macro avg       0.56      0.55      0.54     10098\n",
      "weighted avg       0.56      0.55      0.54     10098\n",
      "\n"
     ]
    }
   ],
   "source": [
    "y_predicted = nb.predict(X_test)\n",
    "# Naive Bayes Results\n",
    "print(metrics.classification_report(y_test, y_predicted))"
   ]
  },
  {
   "cell_type": "markdown",
   "id": "5b293ddc",
   "metadata": {},
   "source": [
    "## SMOTE"
   ]
  },
  {
   "cell_type": "markdown",
   "id": "1aedcb76",
   "metadata": {},
   "source": [
    "SMOTE - Synthetic Minority Oversampling TEchnique. This method is similar to Oversampling, but creates additional noise, hence better than basic oversampling"
   ]
  },
  {
   "cell_type": "code",
   "execution_count": 31,
   "id": "014e3bd2",
   "metadata": {},
   "outputs": [],
   "source": [
    "from imblearn.over_sampling import SMOTE"
   ]
  },
  {
   "cell_type": "code",
   "execution_count": 32,
   "id": "8584a4f9",
   "metadata": {},
   "outputs": [],
   "source": [
    "oversample = SMOTE()\n",
    "X_3, y_3 = oversample.fit_resample(X, y)"
   ]
  },
  {
   "cell_type": "code",
   "execution_count": 33,
   "id": "b2158b5f",
   "metadata": {},
   "outputs": [
    {
     "data": {
      "text/plain": [
       "(85044, 11)"
      ]
     },
     "execution_count": 33,
     "metadata": {},
     "output_type": "execute_result"
    }
   ],
   "source": [
    "X_3.shape"
   ]
  },
  {
   "cell_type": "code",
   "execution_count": 34,
   "id": "db37d7d2",
   "metadata": {},
   "outputs": [
    {
     "data": {
      "text/plain": [
       "(85044,)"
      ]
     },
     "execution_count": 34,
     "metadata": {},
     "output_type": "execute_result"
    }
   ],
   "source": [
    "y_3.shape"
   ]
  },
  {
   "cell_type": "code",
   "execution_count": 35,
   "id": "f13fc3a1",
   "metadata": {},
   "outputs": [
    {
     "data": {
      "text/plain": [
       "0    42522\n",
       "1    42522\n",
       "Name: booking_complete, dtype: int64"
      ]
     },
     "execution_count": 35,
     "metadata": {},
     "output_type": "execute_result"
    }
   ],
   "source": [
    "df3 = pd.concat([X_3,y_3], axis=1)\n",
    "df3.booking_complete.value_counts()"
   ]
  },
  {
   "cell_type": "markdown",
   "id": "313d254c",
   "metadata": {},
   "source": [
    "### Random Forest + SMOTE Oversampling"
   ]
  },
  {
   "cell_type": "code",
   "execution_count": 36,
   "id": "84dc26b9",
   "metadata": {},
   "outputs": [],
   "source": [
    "X_train, X_test, y_train, y_test = train_test_split(X_3, y_3, stratify=y_3, test_size=0.3, random_state=100)\n",
    "\n",
    "forest = RandomForestClassifier(n_estimators=100, random_state=100)"
   ]
  },
  {
   "cell_type": "code",
   "execution_count": 37,
   "id": "9f148f5b",
   "metadata": {},
   "outputs": [],
   "source": [
    "forest.fit(X_train,y_train)\n",
    "predictions = forest.predict(X_test)"
   ]
  },
  {
   "cell_type": "code",
   "execution_count": 38,
   "id": "6e90ec4e",
   "metadata": {},
   "outputs": [
    {
     "name": "stdout",
     "output_type": "stream",
     "text": [
      "              precision    recall  f1-score   support\n",
      "\n",
      "           0       0.85      0.87      0.86     12757\n",
      "           1       0.87      0.85      0.86     12757\n",
      "\n",
      "    accuracy                           0.86     25514\n",
      "   macro avg       0.86      0.86      0.86     25514\n",
      "weighted avg       0.86      0.86      0.86     25514\n",
      "\n"
     ]
    }
   ],
   "source": [
    "# Random Forest Classification\n",
    "print(metrics.classification_report(y_test, predictions))"
   ]
  },
  {
   "cell_type": "code",
   "execution_count": 39,
   "id": "fd18dfdd",
   "metadata": {},
   "outputs": [
    {
     "data": {
      "image/png": "[encoded data removed]",
      "text/plain": [
       "<Figure size 648x504 with 2 Axes>"
      ]
     },
     "metadata": {
      "needs_background": "light"
     },
     "output_type": "display_data"
    }
   ],
   "source": [
    "# confusion matrix\n",
    "plt.figure(figsize=(9, 7))\n",
    "sns.heatmap(metrics.confusion_matrix(y_test, predictions), annot=True,fmt='.4g', \n",
    "            xticklabels=['Actual','Predicted'], yticklabels=['Actual','Predicted'], cmap='Blues')\n",
    "plt.show()"
   ]
  },
  {
   "cell_type": "markdown",
   "id": "193b318c",
   "metadata": {},
   "source": [
    "### Cross Validation + Random Forest + SMOTE Oversampling"
   ]
  },
  {
   "cell_type": "code",
   "execution_count": 55,
   "id": "8e5363bb",
   "metadata": {},
   "outputs": [
    {
     "data": {
      "text/plain": [
       "0.6906526403458476"
      ]
     },
     "execution_count": 55,
     "metadata": {},
     "output_type": "execute_result"
    }
   ],
   "source": [
    "scores = cross_val_score(forest, X_3, y_3, cv=5)\n",
    "scores.mean()"
   ]
  },
  {
   "cell_type": "code",
   "execution_count": 40,
   "id": "d45bdd92",
   "metadata": {},
   "outputs": [
    {
     "name": "stdout",
     "output_type": "stream",
     "text": [
      "              precision    recall  f1-score   support\n",
      "\n",
      "           0       1.00      1.00      1.00     29765\n",
      "           1       1.00      1.00      1.00     29765\n",
      "\n",
      "    accuracy                           1.00     59530\n",
      "   macro avg       1.00      1.00      1.00     59530\n",
      "weighted avg       1.00      1.00      1.00     59530\n",
      "\n"
     ]
    }
   ],
   "source": [
    "# training data\n",
    "train_predictions = forest.predict(X_train)\n",
    "print(metrics.classification_report(y_train, train_predictions))"
   ]
  },
  {
   "cell_type": "markdown",
   "id": "3ff03b00",
   "metadata": {},
   "source": [
    "##  Undersampling + SMOTE Oversampling"
   ]
  },
  {
   "cell_type": "code",
   "execution_count": 62,
   "id": "50ffde3f",
   "metadata": {},
   "outputs": [],
   "source": [
    "over = SMOTE(sampling_strategy=1)"
   ]
  },
  {
   "cell_type": "code",
   "execution_count": 60,
   "id": "21c87a03",
   "metadata": {},
   "outputs": [],
   "source": [
    "X_4 = df_downsampled.drop(['booking_complete'], axis=1)\n",
    "y_4 = df_downsampled['booking_complete']"
   ]
  },
  {
   "cell_type": "code",
   "execution_count": 70,
   "id": "a6a76e1d",
   "metadata": {},
   "outputs": [],
   "source": [
    "X_res, y_res = over.fit_resample(X_4, y_4)"
   ]
  },
  {
   "cell_type": "markdown",
   "id": "bda151d7",
   "metadata": {},
   "source": [
    "### Random Forest + Undersampling + SMOTE Oversampling"
   ]
  },
  {
   "cell_type": "code",
   "execution_count": 64,
   "id": "97fea77f",
   "metadata": {},
   "outputs": [],
   "source": [
    "forest = RandomForestClassifier(n_estimators=100, random_state=100)\n",
    "\n",
    "forest.fit(X_res,y_res)\n",
    "predictions = forest.predict(X_test)"
   ]
  },
  {
   "cell_type": "code",
   "execution_count": 65,
   "id": "14c6358b",
   "metadata": {},
   "outputs": [
    {
     "name": "stdout",
     "output_type": "stream",
     "text": [
      "              precision    recall  f1-score   support\n",
      "\n",
      "           0       0.88      0.89      0.88     12757\n",
      "           1       0.89      0.88      0.88     12757\n",
      "\n",
      "    accuracy                           0.88     25514\n",
      "   macro avg       0.88      0.88      0.88     25514\n",
      "weighted avg       0.88      0.88      0.88     25514\n",
      "\n"
     ]
    }
   ],
   "source": [
    "print(metrics.classification_report(y_test, predictions))"
   ]
  },
  {
   "cell_type": "code",
   "execution_count": 66,
   "id": "aa13e4b9",
   "metadata": {},
   "outputs": [
    {
     "data": {
      "text/plain": [
       "0    16830\n",
       "1    16830\n",
       "Name: booking_complete, dtype: int64"
      ]
     },
     "execution_count": 66,
     "metadata": {},
     "output_type": "execute_result"
    }
   ],
   "source": [
    "df_3 = pd.concat([X_res, y_res], axis=1)\n",
    "df_3.booking_complete.value_counts()"
   ]
  },
  {
   "cell_type": "markdown",
   "id": "28b6e2f5",
   "metadata": {},
   "source": [
    "### Cross Validation + Random Forest + Undersampling + SMOTE Oversampling"
   ]
  },
  {
   "cell_type": "code",
   "execution_count": 71,
   "id": "38231793",
   "metadata": {
    "scrolled": true
   },
   "outputs": [
    {
     "data": {
      "text/plain": [
       "0.7869578134284017"
      ]
     },
     "execution_count": 71,
     "metadata": {},
     "output_type": "execute_result"
    }
   ],
   "source": [
    "scores = cross_val_score(forest, X_res, y_res, cv=5)\n",
    "scores.mean()"
   ]
  },
  {
   "cell_type": "code",
   "execution_count": 67,
   "id": "edb5cc83",
   "metadata": {},
   "outputs": [
    {
     "name": "stdout",
     "output_type": "stream",
     "text": [
      "              precision    recall  f1-score   support\n",
      "\n",
      "           0       1.00      1.00      1.00     16830\n",
      "           1       1.00      1.00      1.00     16830\n",
      "\n",
      "    accuracy                           1.00     33660\n",
      "   macro avg       1.00      1.00      1.00     33660\n",
      "weighted avg       1.00      1.00      1.00     33660\n",
      "\n"
     ]
    }
   ],
   "source": [
    "predictions = forest.predict(X_res)\n",
    "print(metrics.classification_report(y_res, predictions))"
   ]
  },
  {
   "cell_type": "markdown",
   "id": "26d6a950",
   "metadata": {},
   "source": [
    "## Standardization"
   ]
  },
  {
   "cell_type": "code",
   "execution_count": 50,
   "id": "79ca0da5",
   "metadata": {
    "scrolled": false
   },
   "outputs": [
    {
     "name": "stdout",
     "output_type": "stream",
     "text": [
      "(35000, 11)\n",
      "(15000, 11)\n"
     ]
    }
   ],
   "source": [
    "from sklearn.preprocessing import StandardScaler\n",
    "\n",
    "scaler = StandardScaler()\n",
    "\n",
    "q_data = q.drop(['booking_complete'], axis=1).values\n",
    "q_target = q.booking_complete\n",
    " \n",
    "Q_train, Q_test, q_train, q_test = train_test_split(q_data, q_target, test_size=0.3, random_state=100)\n",
    "    \n",
    "# standardization \n",
    "scale_train = scaler.fit_transform(Q_train) \n",
    "scale_test = scaler.fit_transform(Q_test)\n",
    "\n",
    "print(scale_train.shape)\n",
    "print(scale_test.shape)"
   ]
  },
  {
   "cell_type": "code",
   "execution_count": 51,
   "id": "f2482184",
   "metadata": {},
   "outputs": [],
   "source": [
    "forest = RandomForestClassifier(random_state=100)\n",
    "\n",
    "forest.fit(scale_train, q_train)\n",
    "predictions = forest.predict(scale_test)"
   ]
  },
  {
   "cell_type": "code",
   "execution_count": 52,
   "id": "03ab2a53",
   "metadata": {},
   "outputs": [
    {
     "name": "stdout",
     "output_type": "stream",
     "text": [
      "              precision    recall  f1-score   support\n",
      "\n",
      "           0       0.86      0.99      0.92     12787\n",
      "           1       0.41      0.06      0.10      2213\n",
      "\n",
      "    accuracy                           0.85     15000\n",
      "   macro avg       0.63      0.52      0.51     15000\n",
      "weighted avg       0.79      0.85      0.80     15000\n",
      "\n"
     ]
    }
   ],
   "source": [
    "print(metrics.classification_report(q_test, predictions))"
   ]
  },
  {
   "cell_type": "markdown",
   "id": "6be0f345",
   "metadata": {},
   "source": [
    "doesn't seem to affect the model performance"
   ]
  },
  {
   "cell_type": "markdown",
   "id": "f74da3ce",
   "metadata": {},
   "source": [
    "From the experiment provided in this Customer Behavior Prediction Analsysis, Undersampling and Oversampling provided the best results."
   ]
  },
  {
   "cell_type": "markdown",
   "id": "223a79ab",
   "metadata": {},
   "source": [
    "### Results Table"
   ]
  },
  {
   "cell_type": "code",
   "execution_count": 78,
   "id": "ca04cc85",
   "metadata": {},
   "outputs": [],
   "source": [
    "d = {}\n",
    "d['Original'] = data2.booking_complete.value_counts().to_list() + [cross_val_score(forest, q_data, q_target, cv=5).mean()]\n",
    "\n",
    "d['Under'] = df_downsampled.booking_complete.value_counts().to_list() + [cross_val_score(forest, X_1, y_1, cv=5).mean()]\n",
    "\n",
    "d['Under+Over'] = df_sampled.booking_complete.value_counts().to_list() + [cross_val_score(forest, X_2, y_2, cv=5).mean()]\n",
    "\n",
    "temp = pd.concat([X_3,y_3], axis=1).booking_complete.value_counts().to_list()\n",
    "d['SMOTE_Over'] = temp + [cross_val_score(forest, X_3, y_3, cv=5).mean()]\n",
    "\n",
    "d['Under+SMOTE_Over'] = df_3.booking_complete.value_counts().to_list() + [cross_val_score(forest, X_res, y_res, cv=5).mean()]"
   ]
  },
  {
   "cell_type": "code",
   "execution_count": 86,
   "id": "956ef583",
   "metadata": {},
   "outputs": [
    {
     "data": {
      "text/html": [
       "<div>\n",
       "<style scoped>\n",
       "    .dataframe tbody tr th:only-of-type {\n",
       "        vertical-align: middle;\n",
       "    }\n",
       "\n",
       "    .dataframe tbody tr th {\n",
       "        vertical-align: top;\n",
       "    }\n",
       "\n",
       "    .dataframe thead th {\n",
       "        text-align: right;\n",
       "    }\n",
       "</style>\n",
       "<table border=\"1\" class=\"dataframe\">\n",
       "  <thead>\n",
       "    <tr style=\"text-align: right;\">\n",
       "      <th></th>\n",
       "      <th>0</th>\n",
       "      <th>1</th>\n",
       "      <th>val_score</th>\n",
       "    </tr>\n",
       "  </thead>\n",
       "  <tbody>\n",
       "    <tr>\n",
       "      <th>Original</th>\n",
       "      <td>42522</td>\n",
       "      <td>7478</td>\n",
       "      <td>0.646520</td>\n",
       "    </tr>\n",
       "    <tr>\n",
       "      <th>Under</th>\n",
       "      <td>16830</td>\n",
       "      <td>5610</td>\n",
       "      <td>0.618093</td>\n",
       "    </tr>\n",
       "    <tr>\n",
       "      <th>Under+Over</th>\n",
       "      <td>16830</td>\n",
       "      <td>16830</td>\n",
       "      <td>0.896019</td>\n",
       "    </tr>\n",
       "    <tr>\n",
       "      <th>SMOTE_Over</th>\n",
       "      <td>42522</td>\n",
       "      <td>42522</td>\n",
       "      <td>0.690653</td>\n",
       "    </tr>\n",
       "    <tr>\n",
       "      <th>Under+SMOTE_Over</th>\n",
       "      <td>16830</td>\n",
       "      <td>16830</td>\n",
       "      <td>0.786958</td>\n",
       "    </tr>\n",
       "  </tbody>\n",
       "</table>\n",
       "</div>"
      ],
      "text/plain": [
       "                      0      1  val_score\n",
       "Original          42522   7478   0.646520\n",
       "Under             16830   5610   0.618093\n",
       "Under+Over        16830  16830   0.896019\n",
       "SMOTE_Over        42522  42522   0.690653\n",
       "Under+SMOTE_Over  16830  16830   0.786958"
      ]
     },
     "execution_count": 86,
     "metadata": {},
     "output_type": "execute_result"
    }
   ],
   "source": [
    "pd.DataFrame.from_dict(d, orient = 'index', columns=['0', '1', 'val_score'])"
   ]
  },
  {
   "cell_type": "code",
   "execution_count": null,
   "id": "59926150",
   "metadata": {},
   "outputs": [],
   "source": []
  }
 ],
 "metadata": {
  "kernelspec": {
   "display_name": "Python 3",
   "language": "python",
   "name": "python3"
  },
  "language_info": {
   "codemirror_mode": {
    "name": "ipython",
    "version": 3
   },
   "file_extension": ".py",
   "mimetype": "text/x-python",
   "name": "python",
   "nbconvert_exporter": "python",
   "pygments_lexer": "ipython3",
   "version": "3.8.8"
  }
 },
 "nbformat": 4,
 "nbformat_minor": 5
}
